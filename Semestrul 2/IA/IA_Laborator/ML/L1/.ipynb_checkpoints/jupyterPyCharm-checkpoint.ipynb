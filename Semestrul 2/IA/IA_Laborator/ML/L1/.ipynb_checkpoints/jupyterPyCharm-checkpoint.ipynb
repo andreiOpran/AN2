{
 "cells": [
  {
   "cell_type": "code",
   "outputs": [],
   "source": [
    "print('andrei')\n",
    "print('opran')"
   ],
   "metadata": {
    "collapsed": false,
    "is_executing": true
   },
   "id": "4566a2c09e9e8d7e"
  },
  {
   "cell_type": "code",
   "outputs": [],
   "source": [],
   "metadata": {
    "collapsed": false
   },
   "id": "b85d07f6de997264"
  }
 ],
 "metadata": {
  "kernelspec": {
   "display_name": "Python 3",
   "language": "python",
   "name": "python3"
  },
  "language_info": {
   "codemirror_mode": {
    "name": "ipython",
    "version": 2
   },
   "file_extension": ".py",
   "mimetype": "text/x-python",
   "name": "python",
   "nbconvert_exporter": "python",
   "pygments_lexer": "ipython2",
   "version": "2.7.6"
  }
 },
 "nbformat": 4,
 "nbformat_minor": 5
}
